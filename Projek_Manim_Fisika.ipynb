{
  "nbformat": 4,
  "nbformat_minor": 0,
  "metadata": {
    "colab": {
      "name": "Projek Manim Fisika.ipynb",
      "provenance": [],
      "collapsed_sections": []
    },
    "kernelspec": {
      "name": "python3",
      "display_name": "Python 3"
    },
    "language_info": {
      "name": "python"
    }
  },
  "cells": [
    {
      "cell_type": "markdown",
      "metadata": {
        "id": "ute3bu6iBb7F"
      },
      "source": [
        "Install\n",
        "\n",
        "habis itu restart runtime\n",
        "\n",
        "dan yaudah tinggal jalanin"
      ]
    },
    {
      "cell_type": "markdown",
      "metadata": {
        "id": "Nuf6Xsx8Pmim"
      },
      "source": [
        "hukum bernouli pesawat\n",
        "\n",
        "vektor\n",
        "\n",
        "hukum snellius\n",
        "\n",
        "torque\n"
      ]
    },
    {
      "cell_type": "markdown",
      "metadata": {
        "id": "Pzm8QyXAPWNA"
      },
      "source": [
        "https://github.com/ManimCommunity/manim/search?q=UR\n",
        "\n",
        "https://docs.manim.community/en/stable/examples.html"
      ]
    },
    {
      "cell_type": "code",
      "metadata": {
        "id": "ppXGZITgPVxQ"
      },
      "source": [
        "!pip install IPython --upgrade"
      ],
      "execution_count": null,
      "outputs": []
    },
    {
      "cell_type": "code",
      "metadata": {
        "id": "zqHH42TW_Tfr"
      },
      "source": [
        "!sudo apt update\n",
        "!sudo apt install libcairo2-dev ffmpeg texlive texlive-latex-extra texlive-fonts-extra texlive-latex-recommended texlive-science tipa libpango1.0-dev\n",
        "!pip install manim\n",
        "!pip install IPython --upgrade"
      ],
      "execution_count": null,
      "outputs": []
    },
    {
      "cell_type": "code",
      "metadata": {
        "id": "Axqiw4bQ_yjT",
        "colab": {
          "base_uri": "https://localhost:8080/",
          "height": 49
        },
        "outputId": "395c6229-d3bb-4b1a-bf2d-7009b44ee472"
      },
      "source": [
        "from manim import *"
      ],
      "execution_count": 1,
      "outputs": [
        {
          "output_type": "display_data",
          "data": {
            "text/html": [
              "<pre style=\"white-space:pre;overflow-x:auto;line-height:normal;font-family:Menlo,'DejaVu Sans Mono',consolas,'Courier New',monospace\">Manim Community <span style=\"color: #008000; text-decoration-color: #008000\">v0.9.0</span>\n",
              "\n",
              "</pre>\n"
            ],
            "text/plain": [
              "Manim Community \u001b[32mv0.\u001b[0m\u001b[32m9.0\u001b[0m\n",
              "\n"
            ]
          },
          "metadata": {}
        }
      ]
    },
    {
      "cell_type": "code",
      "metadata": {
        "id": "pvoXnNq-qPIq"
      },
      "source": [
        "%%manim -v WARNING -qm CircleToSquare\n",
        "\n",
        "class CircleToSquare(Scene):\n",
        "    def construct(self):\n",
        "        blue_circle = Circle(color=BLUE, fill_opacity=0.5)\n",
        "        green_square = Square(color=GREEN, fill_opacity=0.8)\n",
        "        self.play(Create(blue_circle))\n",
        "        self.wait()\n",
        "        \n",
        "        self.play(Transform(blue_circle, green_square))\n",
        "        self.wait()"
      ],
      "execution_count": null,
      "outputs": []
    },
    {
      "cell_type": "code",
      "metadata": {
        "id": "swO5aSTP_4sC"
      },
      "source": [
        "%%manim SquareToCircle\n",
        "\n",
        "class SquareToCircle(Scene):\n",
        "    def construct(self):\n",
        "        circle = Circle()\n",
        "        circle.set_fill(PINK, opacity=0.5)\n",
        "        self.play(Create(circle))"
      ],
      "execution_count": null,
      "outputs": []
    },
    {
      "cell_type": "code",
      "metadata": {
        "id": "wVNMxpHL-SOw"
      },
      "source": [
        "%%manim BraceAnnotation\n",
        "\n",
        "class BraceAnnotation(Scene):\n",
        "    def construct(self):\n",
        "        dot = Dot([-2, -1, 0])\n",
        "        dot2 = Dot([2, 1, 0])\n",
        "        dotgrup = VGroup(dot,dot2)\n",
        "        line = Line(dot.get_center(), dot2.get_center()).set_color(ORANGE)\n",
        "        b1 = Brace(line)\n",
        "        b1text = b1.get_text(\"Horizontal distance\")\n",
        "        b2 = Brace(line, direction=line.copy().rotate(PI / 2).get_unit_vector())\n",
        "        b2text = b2.get_tex(\"x-x_1\")\n",
        "        self.play(Create(line))\n",
        "        self.play(GrowFromCenter(dotgrup))\n",
        "        self.play(GrowFromEdge(b2, edge = DL))\n",
        "        self.play(Write(b2text))\n",
        "        self.play(GrowFromCenter(b1))\n",
        "        self.play(Write(b1text))"
      ],
      "execution_count": null,
      "outputs": []
    },
    {
      "cell_type": "code",
      "metadata": {
        "id": "jOzvyY7s3TWI"
      },
      "source": [
        "%%manim PointMovingOnShapes\n",
        "from manim import *\n",
        "\n",
        "class PointMovingOnShapes(Scene):\n",
        "    def construct(self):\n",
        "        circle = Circle(radius=2, color=BLUE)\n",
        "        kotak = Square(side_length=0.5)\n",
        "        dot = Dot()\n",
        "        dot2 = dot.copy().shift(RIGHT*2)\n",
        "        kotak2 = kotak.copy().shift(RIGHT*2)\n",
        "        #self.add(dot)\n",
        "        self.add(kotak)\n",
        "\n",
        "        line = Arrow([3, 0, 0], [5, 0, 0])\n",
        "        self.add(line)\n",
        "\n",
        "        self.play(GrowFromCenter(circle))\n",
        "        self.play(Transform(kotak, kotak2))\n",
        "        self.play(MoveAlongPath(kotak, circle), run_time=2, rate_func=linear)\n",
        "        #self.play(Rotating(dot, about_point=[2, 0, 0]), run_time=1.5)\n",
        "        self.wait()"
      ],
      "execution_count": null,
      "outputs": []
    },
    {
      "cell_type": "code",
      "metadata": {
        "id": "gHpsAG5mFQep"
      },
      "source": [
        "%%manim BoxMove\n",
        "\n",
        "class BoxMove(Scene):\n",
        "  def construct(self):\n",
        "    box = Rectangle(stroke_color = GREEN_C, stroke_opacity = 0.7, fill_color = RED_B, fill_opacity = 0.5, height = 1, width = 1)\n",
        "\n",
        "    self.add(box)\n",
        "    self.play(box.animate.shift(RIGHT*2), run_time=2)\n",
        "    self.play(box.animate.shift(UP*2), run_time=2)\n",
        "    self.play(box.animate.shift(DOWN*5+LEFT*5), run_time=2)\n",
        "    self.play(box.animate.shift(UP*5+RIGHT*5), run_time=2)\n",
        "\n"
      ],
      "execution_count": null,
      "outputs": []
    },
    {
      "cell_type": "code",
      "metadata": {
        "id": "hgZGdBBCnv68"
      },
      "source": [
        "class FittingObject(Scene):\n",
        "\tdef construct(self):\n",
        "\t\taxes = Axes(x_range= [-3,3,1], y_range[-3,3,1], x_length = 6, y_length=6)\n"
      ],
      "execution_count": null,
      "outputs": []
    },
    {
      "cell_type": "code",
      "metadata": {
        "id": "OCDvCmaAxm2L"
      },
      "source": [
        "%%manim FittingObject\n",
        "class FittingObject(Scene):\n",
        "  def construct(self):\n",
        "    karte = Axes(x_range=[-3,3,1],y_range=[-3,3,1],x_length=6,y_length=6)\n",
        "    karte.to_edge(LEFT, buff = 0.5)\n",
        "\n",
        "    circle = Circle(stroke_width = 6, stroke_color = YELLOW, fill_color = RED_C, fill_opacity = 0.8)\n",
        "    circle.set_width(2).to_edge(DR, buff = 0.5)\n",
        "\n",
        "    triangle = Triangle(stroke_color = ORANGE, stroke_width = 10, fill_color = GREY).set_height(2).shift(DOWN*3+RIGHT*3)\n",
        "    self.play(Write(karte))\n",
        "    self.play(DrawBorderThenFill(circle))\n",
        "    self.play(circle.animate.set_width(1))\n",
        "    self.play(Transform(circle, triangle),run_time = 3)"
      ],
      "execution_count": null,
      "outputs": []
    },
    {
      "cell_type": "code",
      "metadata": {
        "id": "lhdmVd9o27o_"
      },
      "source": [
        "%%manim Apdet\n",
        "class Apdet(Scene):\n",
        "    def construct(self):\n",
        "\n",
        "        rectangle = RoundedRectangle(stroke_width = 8, stroke_color = WHITE,\n",
        "        fill_color = BLUE_B, width = 4.5, height = 2).shift(UP*3+LEFT*4)\n",
        "\n",
        "        mathtext = MathTex(\"\\\\frac{3}{4} = 0.75\"\n",
        "        ).set_color_by_gradient(GREEN, PINK).set_height(1.5)\n",
        "        mathtext.move_to(rectangle.get_center())\n",
        "        mathtext.add_updater(lambda x : x.move_to(rectangle.get_center()))\n",
        "\n",
        "        \n",
        "        self.play(FadeIn(rectangle))\n",
        "        self.wait()\n",
        "        self.play(Write(mathtext), run_time=2)\n",
        "        self.wait()\n",
        "\n",
        "        self.play(rectangle.animate.shift(RIGHT*1.5+DOWN*5), run_time=6)\n",
        "        self.wait()\n",
        "        mathtext.clear_updaters()\n",
        "        self.play(rectangle.animate.shift(LEFT*2 + UP*1), run_time=6)\n",
        "        self.wait()"
      ],
      "execution_count": null,
      "outputs": []
    },
    {
      "cell_type": "code",
      "metadata": {
        "id": "lzpjcXoy7wLD"
      },
      "source": [
        "%%manim Tute4\n",
        "class Tute4(Scene):\n",
        "    def construct(self):\n",
        "\n",
        "        r = ValueTracker(0.5) #Tracks the value of the radius\n",
        "        \n",
        "        circle = always_redraw(lambda : \n",
        "        Circle(radius = r.get_value(), stroke_color = YELLOW, \n",
        "        stroke_width = 5))\n",
        "\n",
        "        line_radius = always_redraw(lambda : \n",
        "        Line(start = circle.get_center(), end = circle.get_bottom(), stroke_color = RED_B, stroke_width = 10)\n",
        "        )\n",
        "\n",
        "        line_circumference = always_redraw(lambda : \n",
        "        Line(stroke_color = YELLOW, stroke_width = 5\n",
        "        ).set_length(2 * r.get_value() * PI).next_to(circle, DOWN, buff=0.2)\n",
        "        )\n",
        "\n",
        "        triangle = always_redraw(lambda : \n",
        "        Polygon(circle.get_top(), circle.get_left(), circle.get_right(), fill_color = GREEN_C)\n",
        "        )\n",
        "\n",
        "        self.play(LaggedStart(\n",
        "            Create(circle), DrawBorderThenFill(line_radius), DrawBorderThenFill(triangle),\n",
        "            run_time = 4, lag_ratio = 0.75\n",
        "        ))\n",
        "        self.play(ReplacementTransform(circle.copy(), line_circumference), run_time = 2)\n",
        "        self.play(r.animate.set_value(2), run_time = 5)"
      ],
      "execution_count": null,
      "outputs": []
    },
    {
      "cell_type": "code",
      "metadata": {
        "id": "He7387hU_rHh"
      },
      "source": [
        "%%manim TesTerus\n",
        "\n",
        "class FunctionTrack(Scene):\n",
        "    def construct(self):\n",
        "        # f(x) = x**2\n",
        "        fx = lambda x: 10/(x.get_value()**2)\n",
        "        \n",
        "        # ValueTrackers definition\n",
        "        x_value = ValueTracker(1)\n",
        "        fx_value = ValueTracker(fx(x_value))\n",
        "        \n",
        "        # DecimalNumber definition\n",
        "        x_tex = Integer(x_value.get_value()).add_updater(lambda v: v.set_value(x_value.get_value()))\n",
        "        fx_tex = DecimalNumber(fx_value.get_value(),num_decimal_places=4).add_updater(lambda v: v.set_value(fx(x_value)))\n",
        "        \n",
        "        # TeX labels definition\n",
        "        x_label = MathTex(\"x = \")\n",
        "        fx_label = MathTex(\"x^2 = \")\n",
        "        #root_label = MathTex(\")^2\")\n",
        "        \n",
        "        # Grouping of labels and numbers\n",
        "        group = VGroup(x_tex,fx_tex,x_label,fx_label).scale(2.6)\n",
        "        VGroup(x_tex, fx_tex).arrange_submobjects(DOWN,buff=3)\n",
        "        \n",
        "        # Align labels and numbers\n",
        "        x_label.next_to(x_tex,LEFT, buff=0.7,aligned_edge=x_label.get_bottom())\n",
        "        #root_label.next_to(x_tex,RIGHT,buff = 0.7)\n",
        "        fx_label.next_to(fx_tex,LEFT, buff=0.7,aligned_edge=fx_label.get_bottom())\n",
        "\n",
        "        self.add(group.move_to(ORIGIN))\n",
        "        self.wait(3)\n",
        "        self.play(x_value.animate.set_value(30),rate_func=linear,run_time=10)\n",
        "        self.wait()\n",
        "        self.play(x_value.animate.set_value(1),rate_func=linear,run_time=10)\n",
        "        self.wait(3)\n",
        "\n",
        "\n",
        "#Sukses bruh\n",
        "\n",
        "class TesTerus(Scene):\n",
        "  def construct(self):\n",
        "    tracker = ValueTracker(0)\n",
        "    numbers = DecimalNumber(0)\n",
        "    bruh = MathTex(\"Hola\")\n",
        "    #numbers.add_updater(lambda m: m.next_to(bruh, LEFT))\n",
        "    numbers.add_updater(lambda m: m.set_value(tracker.get_value()))\n",
        "    \n",
        "    self.add(numbers)\n",
        "    self.play(tracker.animate.set_value(1200), run_time=10)\n",
        "    self.wait()     "
      ],
      "execution_count": null,
      "outputs": []
    },
    {
      "cell_type": "code",
      "metadata": {
        "id": "s9mDsejL_9HC"
      },
      "source": [
        "!manim manimplay.py Partikel -ql"
      ],
      "execution_count": null,
      "outputs": []
    },
    {
      "cell_type": "code",
      "metadata": {
        "id": "INccLnCtAA-G"
      },
      "source": [
        "#@title Run Video\n",
        "VideoPath = '/content/media/videos/content/1080p60/TesTerus.mp4' #@param {type:\"string\"}\n",
        "\n",
        "from IPython.display import HTML\n",
        "from base64 import b64encode\n",
        "mp4 = open(VideoPath,'rb').read()\n",
        "data_url = \"data:video/mp4;base64,\" + b64encode(mp4).decode()\n",
        "HTML(\"\"\"\n",
        "<video width=600 controls>\n",
        "      <source src=\"%s\" type=\"video/mp4\">\n",
        "</video>\n",
        "\"\"\" % data_url)"
      ],
      "execution_count": null,
      "outputs": []
    }
  ]
}